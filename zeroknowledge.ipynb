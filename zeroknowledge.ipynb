{
 "cells": [
  {
   "cell_type": "markdown",
   "metadata": {},
   "source": [
    "# Zero Knowledge Proofs"
   ]
  },
  {
   "cell_type": "markdown",
   "metadata": {},
   "source": [
    "#### What is a Zero Knowledge Proof?\n",
    "\n",
    "This notebook introduces Zero Knowledge Proofs (ZKPs).\n",
    "\n",
    "Zero Knowledge Proofs are a way to demonstrate that something is true, without revealing any secret information about the method.\n",
    "\n",
    "These approaches become very useful in the field of privacy and security for things like authentication and verification of data. For example, you may want to prove that you're over 18, without revealing your exact age.\n",
    "\n",
    "#### How does it work?\n",
    "\n",
    "To explain how this works, we'll start with a simple illustrative example, to explain the core principles behind ZKPs.\n",
    "We'll then explore a more complex example, to show a more full and complete example of how ZKPs work.\n",
    "Finally, we'll show a real-world application of ZKPs for age verification.\n",
    "\n",
    "By the end, you'll not only understand how these remarkable protocols work, but also how they can be implemented. They're a remarkable accomplishment, showing that it's possible to maintain confidentiality while establishing trust - a seemingly paradoxical achievement that makes ZKPs one of cryptography's most elegant innovations.\n",
    "\n",
    "Let's begin with our first example: proving you can add two-digit numbers correctly without revealing how you did it (you can imagine this is a secret algorithm you've been taught, and you're trying to prove you know it without revealing the algorithm)."
   ]
  },
  {
   "cell_type": "code",
   "execution_count": 81,
   "metadata": {},
   "outputs": [],
   "source": [
    "from abc import ABC, abstractmethod\n",
    "import random\n",
    "import hashlib\n",
    "from ortools.sat.python import cp_model\n",
    "\n",
    "# Bokeh imports\n",
    "from bokeh.plotting import figure, show\n",
    "from bokeh.io import output_notebook\n",
    "from bokeh.models import ColumnDataSource, HoverTool"
   ]
  },
  {
   "cell_type": "code",
   "execution_count": 82,
   "metadata": {},
   "outputs": [
    {
     "data": {
      "text/html": [
       "    <style>\n",
       "        .bk-notebook-logo {\n",
       "            display: block;\n",
       "            width: 20px;\n",
       "            height: 20px;\n",
       "            background-image: url(data:image/png;base64,iVBORw0KGgoAAAANSUhEUgAAABQAAAAUCAYAAACNiR0NAAAABHNCSVQICAgIfAhkiAAAAAlwSFlzAAALEgAACxIB0t1+/AAAABx0RVh0U29mdHdhcmUAQWRvYmUgRmlyZXdvcmtzIENTNui8sowAAAOkSURBVDiNjZRtaJVlGMd/1/08zzln5zjP1LWcU9N0NkN8m2CYjpgQYQXqSs0I84OLIC0hkEKoPtiH3gmKoiJDU7QpLgoLjLIQCpEsNJ1vqUOdO7ppbuec5+V+rj4ctwzd8IIbbi6u+8f1539dt3A78eXC7QizUF7gyV1fD1Yqg4JWz84yffhm0qkFqBogB9rM8tZdtwVsPUhWhGcFJngGeWrPzHm5oaMmkfEg1usvLFyc8jLRqDOMru7AyC8saQr7GG7f5fvDeH7Ej8CM66nIF+8yngt6HWaKh7k49Soy9nXurCi1o3qUbS3zWfrYeQDTB/Qj6kX6Ybhw4B+bOYoLKCC9H3Nu/leUTZ1JdRWkkn2ldcCamzrcf47KKXdAJllSlxAOkRgyHsGC/zRday5Qld9DyoM4/q/rUoy/CXh3jzOu3bHUVZeU+DEn8FInkPBFlu3+nW3Nw0mk6vCDiWg8CeJaxEwuHS3+z5RgY+YBR6V1Z1nxSOfoaPa4LASWxxdNp+VWTk7+4vzaou8v8PN+xo+KY2xsw6une2frhw05CTYOmQvsEhjhWjn0bmXPjpE1+kplmmkP3suftwTubK9Vq22qKmrBhpY4jvd5afdRA3wGjFAgcnTK2s4hY0/GPNIb0nErGMCRxWOOX64Z8RAC4oCXdklmEvcL8o0BfkNK4lUg9HTl+oPlQxdNo3Mg4Nv175e/1LDGzZen30MEjRUtmXSfiTVu1kK8W4txyV6BMKlbgk3lMwYCiusNy9fVfvvwMxv8Ynl6vxoByANLTWplvuj/nF9m2+PDtt1eiHPBr1oIfhCChQMBw6Aw0UulqTKZdfVvfG7VcfIqLG9bcldL/+pdWTLxLUy8Qq38heUIjh4XlzZxzQm19lLFlr8vdQ97rjZVOLf8nclzckbcD4wxXMidpX30sFd37Fv/GtwwhzhxGVAprjbg0gCAEeIgwCZyTV2Z1REEW8O4py0wsjeloKoMr6iCY6dP92H6Vw/oTyICIthibxjm/DfN9lVz8IqtqKYLUXfoKVMVQVVJOElGjrnnUt9T9wbgp8AyYKaGlqingHZU/uG2NTZSVqwHQTWkx9hxjkpWDaCg6Ckj5qebgBVbT3V3NNXMSiWSDdGV3hrtzla7J+duwPOToIg42ChPQOQjspnSlp1V+Gjdged7+8UN5CRAV7a5EdFNwCjEaBR27b3W890TE7g24NAP/mMDXRWrGoFPQI9ls/MWO2dWFAar/xcOIImbbpA3zgAAAABJRU5ErkJggg==);\n",
       "        }\n",
       "    </style>\n",
       "    <div>\n",
       "        <a href=\"https://bokeh.org\" target=\"_blank\" class=\"bk-notebook-logo\"></a>\n",
       "        <span id=\"aa196978-92e4-4725-9183-84ebcc3b16ea\">Loading BokehJS ...</span>\n",
       "    </div>\n"
      ]
     },
     "metadata": {},
     "output_type": "display_data"
    },
    {
     "data": {
      "application/javascript": "'use strict';\n(function(root) {\n  function now() {\n    return new Date();\n  }\n\n  const force = true;\n\n  if (typeof root._bokeh_onload_callbacks === \"undefined\" || force === true) {\n    root._bokeh_onload_callbacks = [];\n    root._bokeh_is_loading = undefined;\n  }\n\nconst JS_MIME_TYPE = 'application/javascript';\n  const HTML_MIME_TYPE = 'text/html';\n  const EXEC_MIME_TYPE = 'application/vnd.bokehjs_exec.v0+json';\n  const CLASS_NAME = 'output_bokeh rendered_html';\n\n  /**\n   * Render data to the DOM node\n   */\n  function render(props, node) {\n    const script = document.createElement(\"script\");\n    node.appendChild(script);\n  }\n\n  /**\n   * Handle when an output is cleared or removed\n   */\n  function handleClearOutput(event, handle) {\n    function drop(id) {\n      const view = Bokeh.index.get_by_id(id)\n      if (view != null) {\n        view.model.document.clear()\n        Bokeh.index.delete(view)\n      }\n    }\n\n    const cell = handle.cell;\n\n    const id = cell.output_area._bokeh_element_id;\n    const server_id = cell.output_area._bokeh_server_id;\n\n    // Clean up Bokeh references\n    if (id != null) {\n      drop(id)\n    }\n\n    if (server_id !== undefined) {\n      // Clean up Bokeh references\n      const cmd_clean = \"from bokeh.io.state import curstate; print(curstate().uuid_to_server['\" + server_id + \"'].get_sessions()[0].document.roots[0]._id)\";\n      cell.notebook.kernel.execute(cmd_clean, {\n        iopub: {\n          output: function(msg) {\n            const id = msg.content.text.trim()\n            drop(id)\n          }\n        }\n      });\n      // Destroy server and session\n      const cmd_destroy = \"import bokeh.io.notebook as ion; ion.destroy_server('\" + server_id + \"')\";\n      cell.notebook.kernel.execute(cmd_destroy);\n    }\n  }\n\n  /**\n   * Handle when a new output is added\n   */\n  function handleAddOutput(event, handle) {\n    const output_area = handle.output_area;\n    const output = handle.output;\n\n    // limit handleAddOutput to display_data with EXEC_MIME_TYPE content only\n    if ((output.output_type != \"display_data\") || (!Object.prototype.hasOwnProperty.call(output.data, EXEC_MIME_TYPE))) {\n      return\n    }\n\n    const toinsert = output_area.element.find(\".\" + CLASS_NAME.split(' ')[0]);\n\n    if (output.metadata[EXEC_MIME_TYPE][\"id\"] !== undefined) {\n      toinsert[toinsert.length - 1].firstChild.textContent = output.data[JS_MIME_TYPE];\n      // store reference to embed id on output_area\n      output_area._bokeh_element_id = output.metadata[EXEC_MIME_TYPE][\"id\"];\n    }\n    if (output.metadata[EXEC_MIME_TYPE][\"server_id\"] !== undefined) {\n      const bk_div = document.createElement(\"div\");\n      bk_div.innerHTML = output.data[HTML_MIME_TYPE];\n      const script_attrs = bk_div.children[0].attributes;\n      for (let i = 0; i < script_attrs.length; i++) {\n        toinsert[toinsert.length - 1].firstChild.setAttribute(script_attrs[i].name, script_attrs[i].value);\n        toinsert[toinsert.length - 1].firstChild.textContent = bk_div.children[0].textContent\n      }\n      // store reference to server id on output_area\n      output_area._bokeh_server_id = output.metadata[EXEC_MIME_TYPE][\"server_id\"];\n    }\n  }\n\n  function register_renderer(events, OutputArea) {\n\n    function append_mime(data, metadata, element) {\n      // create a DOM node to render to\n      const toinsert = this.create_output_subarea(\n        metadata,\n        CLASS_NAME,\n        EXEC_MIME_TYPE\n      );\n      this.keyboard_manager.register_events(toinsert);\n      // Render to node\n      const props = {data: data, metadata: metadata[EXEC_MIME_TYPE]};\n      render(props, toinsert[toinsert.length - 1]);\n      element.append(toinsert);\n      return toinsert\n    }\n\n    /* Handle when an output is cleared or removed */\n    events.on('clear_output.CodeCell', handleClearOutput);\n    events.on('delete.Cell', handleClearOutput);\n\n    /* Handle when a new output is added */\n    events.on('output_added.OutputArea', handleAddOutput);\n\n    /**\n     * Register the mime type and append_mime function with output_area\n     */\n    OutputArea.prototype.register_mime_type(EXEC_MIME_TYPE, append_mime, {\n      /* Is output safe? */\n      safe: true,\n      /* Index of renderer in `output_area.display_order` */\n      index: 0\n    });\n  }\n\n  // register the mime type if in Jupyter Notebook environment and previously unregistered\n  if (root.Jupyter !== undefined) {\n    const events = require('base/js/events');\n    const OutputArea = require('notebook/js/outputarea').OutputArea;\n\n    if (OutputArea.prototype.mime_types().indexOf(EXEC_MIME_TYPE) == -1) {\n      register_renderer(events, OutputArea);\n    }\n  }\n  if (typeof (root._bokeh_timeout) === \"undefined\" || force === true) {\n    root._bokeh_timeout = Date.now() + 5000;\n    root._bokeh_failed_load = false;\n  }\n\n  const NB_LOAD_WARNING = {'data': {'text/html':\n     \"<div style='background-color: #fdd'>\\n\"+\n     \"<p>\\n\"+\n     \"BokehJS does not appear to have successfully loaded. If loading BokehJS from CDN, this \\n\"+\n     \"may be due to a slow or bad network connection. Possible fixes:\\n\"+\n     \"</p>\\n\"+\n     \"<ul>\\n\"+\n     \"<li>re-rerun `output_notebook()` to attempt to load from CDN again, or</li>\\n\"+\n     \"<li>use INLINE resources instead, as so:</li>\\n\"+\n     \"</ul>\\n\"+\n     \"<code>\\n\"+\n     \"from bokeh.resources import INLINE\\n\"+\n     \"output_notebook(resources=INLINE)\\n\"+\n     \"</code>\\n\"+\n     \"</div>\"}};\n\n  function display_loaded(error = null) {\n    const el = document.getElementById(\"aa196978-92e4-4725-9183-84ebcc3b16ea\");\n    if (el != null) {\n      const html = (() => {\n        if (typeof root.Bokeh === \"undefined\") {\n          if (error == null) {\n            return \"BokehJS is loading ...\";\n          } else {\n            return \"BokehJS failed to load.\";\n          }\n        } else {\n          const prefix = `BokehJS ${root.Bokeh.version}`;\n          if (error == null) {\n            return `${prefix} successfully loaded.`;\n          } else {\n            return `${prefix} <b>encountered errors</b> while loading and may not function as expected.`;\n          }\n        }\n      })();\n      el.innerHTML = html;\n\n      if (error != null) {\n        const wrapper = document.createElement(\"div\");\n        wrapper.style.overflow = \"auto\";\n        wrapper.style.height = \"5em\";\n        wrapper.style.resize = \"vertical\";\n        const content = document.createElement(\"div\");\n        content.style.fontFamily = \"monospace\";\n        content.style.whiteSpace = \"pre-wrap\";\n        content.style.backgroundColor = \"rgb(255, 221, 221)\";\n        content.textContent = error.stack ?? error.toString();\n        wrapper.append(content);\n        el.append(wrapper);\n      }\n    } else if (Date.now() < root._bokeh_timeout) {\n      setTimeout(() => display_loaded(error), 100);\n    }\n  }\n\n  function run_callbacks() {\n    try {\n      root._bokeh_onload_callbacks.forEach(function(callback) {\n        if (callback != null)\n          callback();\n      });\n    } finally {\n      delete root._bokeh_onload_callbacks\n    }\n    console.debug(\"Bokeh: all callbacks have finished\");\n  }\n\n  function load_libs(css_urls, js_urls, callback) {\n    if (css_urls == null) css_urls = [];\n    if (js_urls == null) js_urls = [];\n\n    root._bokeh_onload_callbacks.push(callback);\n    if (root._bokeh_is_loading > 0) {\n      console.debug(\"Bokeh: BokehJS is being loaded, scheduling callback at\", now());\n      return null;\n    }\n    if (js_urls == null || js_urls.length === 0) {\n      run_callbacks();\n      return null;\n    }\n    console.debug(\"Bokeh: BokehJS not loaded, scheduling load and callback at\", now());\n    root._bokeh_is_loading = css_urls.length + js_urls.length;\n\n    function on_load() {\n      root._bokeh_is_loading--;\n      if (root._bokeh_is_loading === 0) {\n        console.debug(\"Bokeh: all BokehJS libraries/stylesheets loaded\");\n        run_callbacks()\n      }\n    }\n\n    function on_error(url) {\n      console.error(\"failed to load \" + url);\n    }\n\n    for (let i = 0; i < css_urls.length; i++) {\n      const url = css_urls[i];\n      const element = document.createElement(\"link\");\n      element.onload = on_load;\n      element.onerror = on_error.bind(null, url);\n      element.rel = \"stylesheet\";\n      element.type = \"text/css\";\n      element.href = url;\n      console.debug(\"Bokeh: injecting link tag for BokehJS stylesheet: \", url);\n      document.body.appendChild(element);\n    }\n\n    for (let i = 0; i < js_urls.length; i++) {\n      const url = js_urls[i];\n      const element = document.createElement('script');\n      element.onload = on_load;\n      element.onerror = on_error.bind(null, url);\n      element.async = false;\n      element.src = url;\n      console.debug(\"Bokeh: injecting script tag for BokehJS library: \", url);\n      document.head.appendChild(element);\n    }\n  };\n\n  function inject_raw_css(css) {\n    const element = document.createElement(\"style\");\n    element.appendChild(document.createTextNode(css));\n    document.body.appendChild(element);\n  }\n\n  const js_urls = [\"https://cdn.bokeh.org/bokeh/release/bokeh-3.7.0.min.js\", \"https://cdn.bokeh.org/bokeh/release/bokeh-gl-3.7.0.min.js\", \"https://cdn.bokeh.org/bokeh/release/bokeh-widgets-3.7.0.min.js\", \"https://cdn.bokeh.org/bokeh/release/bokeh-tables-3.7.0.min.js\", \"https://cdn.bokeh.org/bokeh/release/bokeh-mathjax-3.7.0.min.js\"];\n  const css_urls = [];\n\n  const inline_js = [    function(Bokeh) {\n      Bokeh.set_log_level(\"info\");\n    },\nfunction(Bokeh) {\n    }\n  ];\n\n  function run_inline_js() {\n    if (root.Bokeh !== undefined || force === true) {\n      try {\n            for (let i = 0; i < inline_js.length; i++) {\n      inline_js[i].call(root, root.Bokeh);\n    }\n\n      } catch (error) {display_loaded(error);throw error;\n      }if (force === true) {\n        display_loaded();\n      }} else if (Date.now() < root._bokeh_timeout) {\n      setTimeout(run_inline_js, 100);\n    } else if (!root._bokeh_failed_load) {\n      console.log(\"Bokeh: BokehJS failed to load within specified timeout.\");\n      root._bokeh_failed_load = true;\n    } else if (force !== true) {\n      const cell = $(document.getElementById(\"aa196978-92e4-4725-9183-84ebcc3b16ea\")).parents('.cell').data().cell;\n      cell.output_area.append_execute_result(NB_LOAD_WARNING)\n    }\n  }\n\n  if (root._bokeh_is_loading === 0) {\n    console.debug(\"Bokeh: BokehJS loaded, going straight to plotting\");\n    run_inline_js();\n  } else {\n    load_libs(css_urls, js_urls, function() {\n      console.debug(\"Bokeh: BokehJS plotting callback run at\", now());\n      run_inline_js();\n    });\n  }\n}(window));",
      "application/vnd.bokehjs_load.v0+json": ""
     },
     "metadata": {},
     "output_type": "display_data"
    }
   ],
   "source": [
    "output_notebook()"
   ]
  },
  {
   "cell_type": "code",
   "execution_count": 83,
   "metadata": {},
   "outputs": [],
   "source": [
    "random.seed(0)  # For reproducibility"
   ]
  },
  {
   "cell_type": "markdown",
   "metadata": {},
   "source": [
    "## Challenger, Solver & Verifier"
   ]
  },
  {
   "cell_type": "markdown",
   "metadata": {},
   "source": [
    "Suppose a teacher wants to check if a student can add two-digit numbers correctly.\n",
    "\n",
    "* The teacher will set the student a set of two-digit addition problems (Challenger). \n",
    "* The student will then solve the problems (Solver), \n",
    "* The teacher will then check the student's answers (Verifier).\n",
    "\n",
    "If the student is able to solve all of the teacher's problems, then the teacher is confident that the student can add two-digit numbers correctly. The more problems that are set, the more confident the teacher can become.\n",
    "\n",
    "If however, the student is not able to solve all of the problems, then the teacher can catch the student, without the method ever being shared."
   ]
  },
  {
   "cell_type": "code",
   "execution_count": 84,
   "metadata": {},
   "outputs": [],
   "source": [
    "class BaseChallenger(ABC):\n",
    "    @abstractmethod\n",
    "    def challenge(self):\n",
    "        \"\"\"\n",
    "        Produce a new 'challenge' – in this case, two numbers to be added.\n",
    "        \"\"\"\n",
    "        pass\n",
    "\n",
    "\n",
    "class BaseSolver(ABC):\n",
    "    @abstractmethod\n",
    "    def solve(self, challenge):\n",
    "        \"\"\"\n",
    "        Given a challenge (e.g., two numbers), produce a solution (sum).\n",
    "        Possibly faulty or correct, depending on implementation.\n",
    "        \"\"\"\n",
    "        pass\n",
    "\n",
    "\n",
    "class BaseVerifier(ABC):\n",
    "    @abstractmethod\n",
    "    def verify(self, challenge, solution):\n",
    "        \"\"\"\n",
    "        Given the challenge and a solution, verify correctness.\n",
    "        Return True if correct, False otherwise.\n",
    "        \"\"\"\n",
    "        pass"
   ]
  },
  {
   "cell_type": "markdown",
   "metadata": {},
   "source": [
    "## Two Digit Addition\n",
    "\n",
    "Below we're going to simulate a problem where the student can only solve two digit addition when the first number is less than 90. If the first number is 90 or greater, the student will solve the problem incorrectly. \n",
    "\n",
    "This demonstrates that with enough problems set, the teacher can detect that the student is not able to solve all two digit problems accurately, only a subset."
   ]
  },
  {
   "cell_type": "code",
   "execution_count": 85,
   "metadata": {},
   "outputs": [],
   "source": [
    "# This class holds logic to sets challenges\n",
    "class TwoDigitChallenger(BaseChallenger):\n",
    "    \"\"\"\n",
    "    The challenge in this case is to generates two-digit integer addition problems:\n",
    "    e.g., challenge() -> (12, 45)\n",
    "    \"\"\"\n",
    "    def challenge(self):\n",
    "        # Generate two random two-digit numbers [0..99]\n",
    "        a = random.randint(0, 99)\n",
    "        b = random.randint(0, 99)\n",
    "        return (a, b)\n",
    "\n",
    "# This class holds logic to solve the challenge. \n",
    "# This is logic is what's \"secret\" and not known to the challenger.\n",
    "class TwoDigitSolver(BaseSolver):\n",
    "    \"\"\"\n",
    "    In this case, our solver is flawed. \n",
    "    It correctly solves the challenge, not if the first number >= 90,\n",
    "    in which case it intentionally returns a wrong answer. \n",
    "    We do this to illustrate how the solver can be caught if the verifier runs enough trials.\n",
    "    \"\"\"\n",
    "    def solve(self, challenge, n=90):\n",
    "        a, b = challenge\n",
    "        if a < n:\n",
    "            return a + b \n",
    "        # Deliberate error if a >= 90 \n",
    "        else:\n",
    "            return a + b + 1 # off by one\n",
    "\n",
    "\n",
    "class TwoDigitVerifier(BaseVerifier):\n",
    "    \"\"\"\n",
    "    Verifies the correctness of an addition result.\n",
    "    \"\"\"\n",
    "    def verify(self, challenge, solution):\n",
    "        a, b = challenge\n",
    "        return (solution == a + b)"
   ]
  },
  {
   "cell_type": "code",
   "execution_count": 86,
   "metadata": {},
   "outputs": [],
   "source": [
    "def run_T_consecutive_trials(challenger, solver, verifier, T):\n",
    "    \"\"\"\n",
    "    Perform T consecutive challenges in one \"experiment.\"\n",
    "    Return True if solver was correct on all T, else False.\n",
    "    \"\"\"\n",
    "    for _ in range(T):\n",
    "        problem = challenger.challenge()\n",
    "        answer = solver.solve(problem, n=90)\n",
    "        if not verifier.verify(problem, answer):\n",
    "            return False  \n",
    "    return True "
   ]
  },
  {
   "cell_type": "code",
   "execution_count": 87,
   "metadata": {},
   "outputs": [],
   "source": [
    "def simulate_consecutive_perfect_probability(challenger, solver, verifier, T, experiments=1000):\n",
    "    \"\"\"\n",
    "    For a fixed T, run 'experiments' independent blocks of T challenges.\n",
    "    Each block must be 100% correct to count as success.\n",
    "    Return fraction that were perfect.\n",
    "    \"\"\"\n",
    "    successes = 0\n",
    "    for _ in range(experiments):\n",
    "        if run_T_consecutive_trials(challenger, solver, verifier, T):\n",
    "            successes += 1\n",
    "    return successes / experiments\n",
    "\n",
    "\n",
    "def plot_probability_of_perfection_vs_T(challenger, solver, verifier,\n",
    "                                        max_T=10,\n",
    "                                        experiments_per_T=1000,\n",
    "                                        output_html=\"consecutive_perfect.html\",\n",
    "                                        title=\"Probability of Perfect Answers for T Consecutive Trials\"):\n",
    "    \"\"\"\n",
    "    For T in [1..max_T], estimate probability that solver is perfect\n",
    "    on all T consecutive trials (in a block). Plot those probabilities.\n",
    "    Includes hover-over tooltips for interactive inspection.\n",
    "    \"\"\"\n",
    "    x_vals = []\n",
    "    y_vals = []\n",
    "\n",
    "    for T in range(1, max_T + 1):\n",
    "        prob = simulate_consecutive_perfect_probability(challenger, solver, verifier, T, experiments=experiments_per_T)\n",
    "        x_vals.append(T)\n",
    "        y_vals.append(prob)\n",
    "        print(f\"T={T}, Probability of perfect = {prob:.3f}\")\n",
    "\n",
    "    p = figure(\n",
    "        title=title,\n",
    "        x_axis_label=\"T (Consecutive Trials)\",\n",
    "        y_axis_label=\"Probability of All-Correct in T Trials\",\n",
    "        width=700,\n",
    "        height=400\n",
    "    )\n",
    "\n",
    "    # Convert data to a ColumnDataSource so we can use hover\n",
    "    source = ColumnDataSource(data=dict(x=x_vals, y=y_vals))\n",
    "\n",
    "    # Plot line and circle\n",
    "    p.line('x', 'y', source=source, line_width=2, color=\"green\", legend_label=\"All-Correct Probability\")\n",
    "    p.circle('x', 'y', source=source, size=6, fill_color=\"white\", color=\"green\")\n",
    "\n",
    "    # Add interactive hover\n",
    "    hover = HoverTool(tooltips=[\n",
    "        (\"T (Trials)\", \"@x\"),\n",
    "        (\"Probability\", \"@y{0.000}\")\n",
    "    ], mode='vline')\n",
    "    p.add_tools(hover)\n",
    "\n",
    "    p.legend.location = \"top_right\"\n",
    "    show(p)"
   ]
  },
  {
   "cell_type": "markdown",
   "metadata": {},
   "source": [
    "### Demonstration of ZKP with Two Digit Addition\n",
    "\n",
    "In this case, the teacher has set the challenge of solving two-digit addition problems.\n",
    "However, our solver doesn't solve the problem correctly for all cases, for example if the first number is 90 or greater.\n",
    "\n",
    "It is then down to the teacher to check if the solver is able to solve the problem correctly.\n",
    "\n",
    "With enough trials, the teacher can catch the solver out, and prove that the solver is not able to solve the problem correctly, or if the solver does solve all of the problems correctly, the teacher can be confident that the solver knows the secret method.\n",
    "\n",
    "It is very important that the challenges are set randomly. This ensures that the solver cannot predict the challenge, and therefore cannot cheat.\n",
    "\n",
    "Randomness also provides diversity of the challenges, so that if the solver does not have a complete proof, the challenges should be able to weed out these cases provided enough successive trials.  \n",
    "\n",
    "#### Two Digit Solver Trials\n",
    "\n",
    "In the below simulation, we show the empirically, the probability that the student is able to pass for a given number of trials using our Zero Proof Knowledge approach."
   ]
  },
  {
   "cell_type": "code",
   "execution_count": 92,
   "metadata": {},
   "outputs": [
    {
     "name": "stdout",
     "output_type": "stream",
     "text": [
      "T=1, Probability of perfect = 0.897\n",
      "T=2, Probability of perfect = 0.803\n",
      "T=3, Probability of perfect = 0.732\n",
      "T=4, Probability of perfect = 0.652\n",
      "T=5, Probability of perfect = 0.593\n",
      "T=6, Probability of perfect = 0.538\n",
      "T=7, Probability of perfect = 0.478\n",
      "T=8, Probability of perfect = 0.431\n",
      "T=9, Probability of perfect = 0.398\n",
      "T=10, Probability of perfect = 0.343\n",
      "T=11, Probability of perfect = 0.317\n",
      "T=12, Probability of perfect = 0.280\n",
      "T=13, Probability of perfect = 0.255\n",
      "T=14, Probability of perfect = 0.225\n",
      "T=15, Probability of perfect = 0.207\n",
      "T=16, Probability of perfect = 0.189\n",
      "T=17, Probability of perfect = 0.170\n",
      "T=18, Probability of perfect = 0.151\n",
      "T=19, Probability of perfect = 0.131\n",
      "T=20, Probability of perfect = 0.123\n",
      "T=21, Probability of perfect = 0.109\n",
      "T=22, Probability of perfect = 0.099\n",
      "T=23, Probability of perfect = 0.090\n",
      "T=24, Probability of perfect = 0.074\n",
      "T=25, Probability of perfect = 0.074\n",
      "T=26, Probability of perfect = 0.064\n",
      "T=27, Probability of perfect = 0.055\n",
      "T=28, Probability of perfect = 0.054\n",
      "T=29, Probability of perfect = 0.047\n",
      "T=30, Probability of perfect = 0.043\n",
      "T=31, Probability of perfect = 0.041\n",
      "T=32, Probability of perfect = 0.036\n",
      "T=33, Probability of perfect = 0.031\n",
      "T=34, Probability of perfect = 0.025\n",
      "T=35, Probability of perfect = 0.024\n",
      "T=36, Probability of perfect = 0.022\n",
      "T=37, Probability of perfect = 0.022\n",
      "T=38, Probability of perfect = 0.016\n",
      "T=39, Probability of perfect = 0.016\n",
      "T=40, Probability of perfect = 0.015\n",
      "T=41, Probability of perfect = 0.014\n",
      "T=42, Probability of perfect = 0.012\n",
      "T=43, Probability of perfect = 0.010\n",
      "T=44, Probability of perfect = 0.011\n",
      "T=45, Probability of perfect = 0.009\n",
      "T=46, Probability of perfect = 0.007\n",
      "T=47, Probability of perfect = 0.007\n",
      "T=48, Probability of perfect = 0.006\n",
      "T=49, Probability of perfect = 0.005\n",
      "T=50, Probability of perfect = 0.005\n"
     ]
    },
    {
     "name": "stderr",
     "output_type": "stream",
     "text": [
      "BokehDeprecationWarning: 'circle() method with size value' was deprecated in Bokeh 3.4.0 and will be removed, use 'scatter(size=...) instead' instead.\n"
     ]
    },
    {
     "data": {
      "text/html": [
       "\n",
       "  <div id=\"fd37c118-63dc-4c78-ba38-bfb3ccf5e909\" data-root-id=\"p1532\" style=\"display: contents;\"></div>\n"
      ]
     },
     "metadata": {},
     "output_type": "display_data"
    },
    {
     "data": {
      "application/javascript": "(function(root) {\n  function embed_document(root) {\n  const docs_json = {\"48efb025-71fc-4e9e-8bff-365b334ee795\":{\"version\":\"3.7.0\",\"title\":\"Bokeh Application\",\"roots\":[{\"type\":\"object\",\"name\":\"Figure\",\"id\":\"p1532\",\"attributes\":{\"width\":700,\"height\":400,\"x_range\":{\"type\":\"object\",\"name\":\"DataRange1d\",\"id\":\"p1533\"},\"y_range\":{\"type\":\"object\",\"name\":\"DataRange1d\",\"id\":\"p1534\"},\"x_scale\":{\"type\":\"object\",\"name\":\"LinearScale\",\"id\":\"p1542\"},\"y_scale\":{\"type\":\"object\",\"name\":\"LinearScale\",\"id\":\"p1543\"},\"title\":{\"type\":\"object\",\"name\":\"Title\",\"id\":\"p1535\",\"attributes\":{\"text\":\"Probability Solver is Perfect in T Consecutive Trials (Emprical)\"}},\"renderers\":[{\"type\":\"object\",\"name\":\"GlyphRenderer\",\"id\":\"p1576\",\"attributes\":{\"data_source\":{\"type\":\"object\",\"name\":\"ColumnDataSource\",\"id\":\"p1567\",\"attributes\":{\"selected\":{\"type\":\"object\",\"name\":\"Selection\",\"id\":\"p1568\",\"attributes\":{\"indices\":[],\"line_indices\":[]}},\"selection_policy\":{\"type\":\"object\",\"name\":\"UnionRenderers\",\"id\":\"p1569\"},\"data\":{\"type\":\"map\",\"entries\":[[\"x\",[1,2,3,4,5,6,7,8,9,10,11,12,13,14,15,16,17,18,19,20,21,22,23,24,25,26,27,28,29,30,31,32,33,34,35,36,37,38,39,40,41,42,43,44,45,46,47,48,49,50]],[\"y\",[0.8969,0.8031,0.7323,0.6521,0.5933,0.5377,0.4781,0.4315,0.3978,0.3433,0.3171,0.2801,0.2547,0.2248,0.2069,0.1886,0.1695,0.1507,0.1312,0.1231,0.1086,0.0989,0.0896,0.0741,0.0737,0.0636,0.0551,0.054,0.0472,0.0433,0.0411,0.0362,0.0306,0.0253,0.0238,0.022,0.022,0.0164,0.0164,0.0155,0.0143,0.0121,0.0096,0.0106,0.0093,0.0075,0.0066,0.0064,0.0051,0.0054]]]}}},\"view\":{\"type\":\"object\",\"name\":\"CDSView\",\"id\":\"p1577\",\"attributes\":{\"filter\":{\"type\":\"object\",\"name\":\"AllIndices\",\"id\":\"p1578\"}}},\"glyph\":{\"type\":\"object\",\"name\":\"Line\",\"id\":\"p1573\",\"attributes\":{\"x\":{\"type\":\"field\",\"field\":\"x\"},\"y\":{\"type\":\"field\",\"field\":\"y\"},\"line_color\":\"green\",\"line_width\":2}},\"nonselection_glyph\":{\"type\":\"object\",\"name\":\"Line\",\"id\":\"p1574\",\"attributes\":{\"x\":{\"type\":\"field\",\"field\":\"x\"},\"y\":{\"type\":\"field\",\"field\":\"y\"},\"line_color\":\"green\",\"line_alpha\":0.1,\"line_width\":2}},\"muted_glyph\":{\"type\":\"object\",\"name\":\"Line\",\"id\":\"p1575\",\"attributes\":{\"x\":{\"type\":\"field\",\"field\":\"x\"},\"y\":{\"type\":\"field\",\"field\":\"y\"},\"line_color\":\"green\",\"line_alpha\":0.2,\"line_width\":2}}}},{\"type\":\"object\",\"name\":\"GlyphRenderer\",\"id\":\"p1587\",\"attributes\":{\"data_source\":{\"id\":\"p1567\"},\"view\":{\"type\":\"object\",\"name\":\"CDSView\",\"id\":\"p1588\",\"attributes\":{\"filter\":{\"type\":\"object\",\"name\":\"AllIndices\",\"id\":\"p1589\"}}},\"glyph\":{\"type\":\"object\",\"name\":\"Scatter\",\"id\":\"p1584\",\"attributes\":{\"x\":{\"type\":\"field\",\"field\":\"x\"},\"y\":{\"type\":\"field\",\"field\":\"y\"},\"size\":{\"type\":\"value\",\"value\":6},\"line_color\":{\"type\":\"value\",\"value\":\"green\"},\"fill_color\":{\"type\":\"value\",\"value\":\"white\"},\"hatch_color\":{\"type\":\"value\",\"value\":\"green\"}}},\"nonselection_glyph\":{\"type\":\"object\",\"name\":\"Scatter\",\"id\":\"p1585\",\"attributes\":{\"x\":{\"type\":\"field\",\"field\":\"x\"},\"y\":{\"type\":\"field\",\"field\":\"y\"},\"size\":{\"type\":\"value\",\"value\":6},\"line_color\":{\"type\":\"value\",\"value\":\"green\"},\"line_alpha\":{\"type\":\"value\",\"value\":0.1},\"fill_color\":{\"type\":\"value\",\"value\":\"white\"},\"fill_alpha\":{\"type\":\"value\",\"value\":0.1},\"hatch_color\":{\"type\":\"value\",\"value\":\"green\"},\"hatch_alpha\":{\"type\":\"value\",\"value\":0.1}}},\"muted_glyph\":{\"type\":\"object\",\"name\":\"Scatter\",\"id\":\"p1586\",\"attributes\":{\"x\":{\"type\":\"field\",\"field\":\"x\"},\"y\":{\"type\":\"field\",\"field\":\"y\"},\"size\":{\"type\":\"value\",\"value\":6},\"line_color\":{\"type\":\"value\",\"value\":\"green\"},\"line_alpha\":{\"type\":\"value\",\"value\":0.2},\"fill_color\":{\"type\":\"value\",\"value\":\"white\"},\"fill_alpha\":{\"type\":\"value\",\"value\":0.2},\"hatch_color\":{\"type\":\"value\",\"value\":\"green\"},\"hatch_alpha\":{\"type\":\"value\",\"value\":0.2}}}}}],\"toolbar\":{\"type\":\"object\",\"name\":\"Toolbar\",\"id\":\"p1541\",\"attributes\":{\"tools\":[{\"type\":\"object\",\"name\":\"PanTool\",\"id\":\"p1554\"},{\"type\":\"object\",\"name\":\"WheelZoomTool\",\"id\":\"p1555\",\"attributes\":{\"renderers\":\"auto\"}},{\"type\":\"object\",\"name\":\"BoxZoomTool\",\"id\":\"p1556\",\"attributes\":{\"dimensions\":\"both\",\"overlay\":{\"type\":\"object\",\"name\":\"BoxAnnotation\",\"id\":\"p1557\",\"attributes\":{\"syncable\":false,\"line_color\":\"black\",\"line_alpha\":1.0,\"line_width\":2,\"line_dash\":[4,4],\"fill_color\":\"lightgrey\",\"fill_alpha\":0.5,\"level\":\"overlay\",\"visible\":false,\"left\":{\"type\":\"number\",\"value\":\"nan\"},\"right\":{\"type\":\"number\",\"value\":\"nan\"},\"top\":{\"type\":\"number\",\"value\":\"nan\"},\"bottom\":{\"type\":\"number\",\"value\":\"nan\"},\"left_units\":\"canvas\",\"right_units\":\"canvas\",\"top_units\":\"canvas\",\"bottom_units\":\"canvas\",\"handles\":{\"type\":\"object\",\"name\":\"BoxInteractionHandles\",\"id\":\"p1563\",\"attributes\":{\"all\":{\"type\":\"object\",\"name\":\"AreaVisuals\",\"id\":\"p1562\",\"attributes\":{\"fill_color\":\"white\",\"hover_fill_color\":\"lightgray\"}}}}}}}},{\"type\":\"object\",\"name\":\"SaveTool\",\"id\":\"p1564\"},{\"type\":\"object\",\"name\":\"ResetTool\",\"id\":\"p1565\"},{\"type\":\"object\",\"name\":\"HelpTool\",\"id\":\"p1566\"},{\"type\":\"object\",\"name\":\"HoverTool\",\"id\":\"p1590\",\"attributes\":{\"renderers\":\"auto\",\"tooltips\":[[\"T (Trials)\",\"@x\"],[\"Probability\",\"@y{0.000}\"]],\"mode\":\"vline\"}}]}},\"left\":[{\"type\":\"object\",\"name\":\"LinearAxis\",\"id\":\"p1549\",\"attributes\":{\"ticker\":{\"type\":\"object\",\"name\":\"BasicTicker\",\"id\":\"p1550\",\"attributes\":{\"mantissas\":[1,2,5]}},\"formatter\":{\"type\":\"object\",\"name\":\"BasicTickFormatter\",\"id\":\"p1551\"},\"axis_label\":\"Probability of All-Correct in T Trials\",\"major_label_policy\":{\"type\":\"object\",\"name\":\"AllLabels\",\"id\":\"p1552\"}}}],\"below\":[{\"type\":\"object\",\"name\":\"LinearAxis\",\"id\":\"p1544\",\"attributes\":{\"ticker\":{\"type\":\"object\",\"name\":\"BasicTicker\",\"id\":\"p1545\",\"attributes\":{\"mantissas\":[1,2,5]}},\"formatter\":{\"type\":\"object\",\"name\":\"BasicTickFormatter\",\"id\":\"p1546\"},\"axis_label\":\"T (Consecutive Trials)\",\"major_label_policy\":{\"type\":\"object\",\"name\":\"AllLabels\",\"id\":\"p1547\"}}}],\"center\":[{\"type\":\"object\",\"name\":\"Grid\",\"id\":\"p1548\",\"attributes\":{\"axis\":{\"id\":\"p1544\"}}},{\"type\":\"object\",\"name\":\"Grid\",\"id\":\"p1553\",\"attributes\":{\"dimension\":1,\"axis\":{\"id\":\"p1549\"}}},{\"type\":\"object\",\"name\":\"Legend\",\"id\":\"p1579\",\"attributes\":{\"items\":[{\"type\":\"object\",\"name\":\"LegendItem\",\"id\":\"p1580\",\"attributes\":{\"label\":{\"type\":\"value\",\"value\":\"All-Correct Probability\"},\"renderers\":[{\"id\":\"p1576\"}]}}]}}]}}]}};\n  const render_items = [{\"docid\":\"48efb025-71fc-4e9e-8bff-365b334ee795\",\"roots\":{\"p1532\":\"fd37c118-63dc-4c78-ba38-bfb3ccf5e909\"},\"root_ids\":[\"p1532\"]}];\n  void root.Bokeh.embed.embed_items_notebook(docs_json, render_items);\n  }\n  if (root.Bokeh !== undefined) {\n    embed_document(root);\n  } else {\n    let attempts = 0;\n    const timer = setInterval(function(root) {\n      if (root.Bokeh !== undefined) {\n        clearInterval(timer);\n        embed_document(root);\n      } else {\n        attempts++;\n        if (attempts > 100) {\n          clearInterval(timer);\n          console.log(\"Bokeh: ERROR: Unable to run BokehJS code because BokehJS library is missing\");\n        }\n      }\n    }, 10, root)\n  }\n})(window);",
      "application/vnd.bokehjs_exec.v0+json": ""
     },
     "metadata": {
      "application/vnd.bokehjs_exec.v0+json": {
       "id": "p1532"
      }
     },
     "output_type": "display_data"
    }
   ],
   "source": [
    "# Instantiate challenger, solver, verifier\n",
    "challenger = TwoDigitChallenger()\n",
    "solver = TwoDigitSolver()\n",
    "verifier = TwoDigitVerifier()\n",
    "\n",
    "plot_probability_of_perfection_vs_T(\n",
    "    challenger, solver, verifier,\n",
    "    max_T=50, #Adjust the number of trials to run\n",
    "    experiments_per_T=10000, #How many times to run each trial (the higher number, the more precise the probability using Central Limit Theorem)\n",
    "    output_html=\"consecutive_perfect.html\",\n",
    "    title=\"Probability Solver is Perfect in T Consecutive Trials (Emprical)\"\n",
    ")"
   ]
  },
  {
   "cell_type": "markdown",
   "metadata": {},
   "source": [
    "## Graph Coloring Problem\n",
    "\n",
    "Now we're going to look at a more complex problem, the graph coloring problem.\n",
    "\n",
    "In this problem, the teacher has set the challenge of coloring a graph with a given number of colors (k), ensuring that no two nodes in the graph that share the same edge, have the same color. In this case, we'll allow three colors and the below graph.\n",
    "\n",
    "The student claims they can solve a graph coloring problem, and the teacher then wants to check if the student is able to solve the problem correctly, but without revealing the full solution or method.\n"
   ]
  },
  {
   "cell_type": "code",
   "execution_count": 98,
   "metadata": {},
   "outputs": [],
   "source": [
    "#Graph\n",
    "edges = [(0,1), (0,2), (1,3), (2,3), (3,4), (4,5), (3,5), (3,6), (4,6)]\n",
    "num_nodes = 7\n",
    "k = 3"
   ]
  },
  {
   "cell_type": "code",
   "execution_count": 99,
   "metadata": {},
   "outputs": [
    {
     "data": {
      "application/vnd.jupyter.widget-view+json": {
       "model_id": "7478ba3850ff4ef99dab4f43bef58b18",
       "version_major": 2,
       "version_minor": 0
      },
      "text/plain": [
       "CytoscapeWidget(cytoscape_layout={'name': 'cola'}, cytoscape_style=[{'selector': 'node', 'style': {'content': …"
      ]
     },
     "execution_count": 99,
     "metadata": {},
     "output_type": "execute_result"
    }
   ],
   "source": [
    "# Create a NetworkX graph\n",
    "G = nx.Graph()\n",
    "G.add_edges_from(edges)\n",
    "\n",
    "# Initialize the ipycytoscape widget\n",
    "cyto_widget = ipycytoscape.CytoscapeWidget()\n",
    "\n",
    "# Convert the NetworkX graph to ipycytoscape’s format\n",
    "cyto_widget.graph.add_graph_from_networkx(G)\n",
    "\n",
    "# Optionally tweak the style\n",
    "cyto_widget.set_style([\n",
    "    {\n",
    "        'selector': 'node',\n",
    "        'style': {\n",
    "            'content': 'data(id)',\n",
    "            'background-color': '#0074D9',\n",
    "            'color': '#fff',\n",
    "            'text-valign': 'center'\n",
    "        }\n",
    "    },\n",
    "    {\n",
    "        'selector': 'edge',\n",
    "        'style': {\n",
    "            'line-color': '#888'\n",
    "        }\n",
    "    }\n",
    "])\n",
    "\n",
    "# Now display it in the notebook\n",
    "cyto_widget"
   ]
  },
  {
   "cell_type": "markdown",
   "metadata": {},
   "source": [
    "The student's task is to color the graph with the given number of colors, k=3, without having two nodes with the same edge use the same color.\n",
    "\n",
    "The student will solve the problem, but will not reveal their method to the teacher. Instead they'll just share enough information to show that they know the method, i.e. that any two nodes connected by an edge, have different colors. This doesn't provide any new information about how to solve the problem to the teacher."
   ]
  },
  {
   "cell_type": "code",
   "execution_count": 140,
   "metadata": {},
   "outputs": [],
   "source": [
    "import colorsys\n",
    "\n",
    "#helper for the graph coloring visualisation\n",
    "def generate_color_palette(k):\n",
    "    \"\"\"\n",
    "    Generates k distinct colors around the HSV color circle.\n",
    "    Returns a list of hex color strings, e.g. ['#cc33cc', '#33cccc', ...]\n",
    "    \"\"\"\n",
    "    palette = []\n",
    "    for i in range(k):\n",
    "        hue = i / max(k, 1)\n",
    "        saturation = 0.6\n",
    "        value = 0.9\n",
    "        r, g, b = colorsys.hsv_to_rgb(hue, saturation, value)\n",
    "        palette.append(f\"#{int(r*255):02x}{int(g*255):02x}{int(b*255):02x}\")\n",
    "    return palette\n",
    "\n",
    "class GraphColorChallenger(BaseChallenger):\n",
    "    \"\"\"\n",
    "    Challenger that accepts a predefined graph (edges, num_nodes) and a color limit (k).\n",
    "    \"\"\"\n",
    "    def __init__(self, edges, num_nodes, num_colors):\n",
    "        self.edges = edges\n",
    "        self.num_nodes = num_nodes\n",
    "        self.num_colors = num_colors\n",
    "\n",
    "    def challenge(self):\n",
    "        \"\"\"\n",
    "        Returns a dictionary describing the graph coloring challenge.\n",
    "        \"\"\"\n",
    "        return {\n",
    "            \"num_nodes\": self.num_nodes,\n",
    "            \"edges\": self.edges,\n",
    "            \"num_colors\": self.num_colors\n",
    "        }\n",
    "\n",
    "\n",
    "class GraphColorSolver(BaseSolver):\n",
    "    \"\"\"\n",
    "    - solve(challenge): use OR-Tools CP-SAT to find a valid coloring with up to k colors.\n",
    "    - shuffle_coloring(): permute color labels for zero-knowledge.\n",
    "    - commit_coloring(): produce a cryptographic commitment for each node's color.\n",
    "    - open_edge_colors(edge): reveal the color + salt for two endpoints of that edge.\n",
    "    \"\"\"\n",
    "\n",
    "    def __init__(self):\n",
    "        self.graph_info = None\n",
    "        self.original_coloring = None  # final integer color assignment for each node\n",
    "        self.permuted_labels = None\n",
    "        self.k = 0\n",
    "\n",
    "        # For ZKP commitments\n",
    "        self.commitments = []\n",
    "        self.salts = []\n",
    "\n",
    "    def solve(self, challenge):\n",
    "        \"\"\"\n",
    "        Solve the graph k-coloring feasibility problem using CP-SAT:\n",
    "         - Each node has an integer var in [0..k-1]\n",
    "         - For each edge (u,v), color[u] != color[v]\n",
    "         - If feasible, store the coloring. Otherwise, raise an error.\n",
    "        \"\"\"\n",
    "        self.graph_info = challenge\n",
    "        self.k = challenge[\"num_colors\"]\n",
    "        n = challenge[\"num_nodes\"]\n",
    "        edges = challenge[\"edges\"]\n",
    "\n",
    "        coloring = self._solve_with_cp_sat(n, edges, self.k)\n",
    "        if coloring is None:\n",
    "            raise ValueError(f\"No valid {self.k}-coloring found for the given graph.\")\n",
    "        self.original_coloring = coloring\n",
    "\n",
    "        # Initialize a random permutation of color labels\n",
    "        self._generate_new_label_permutation()\n",
    "\n",
    "    def _solve_with_cp_sat(self, n, edges, k):\n",
    "        \"\"\"\n",
    "        Use OR-Tools CP-SAT to check if the graph can be colored with up to k colors.\n",
    "        - We only do a feasibility check: color[i] in [0..k-1]\n",
    "        - For each edge (u,v), color[u] != color[v]\n",
    "        - If feasible, return a valid coloring list. Otherwise, return None.\n",
    "        \"\"\"\n",
    "        model = cp_model.CpModel()\n",
    "\n",
    "        # Create integer variables for each node in [0..k-1]\n",
    "        color_vars = [model.NewIntVar(0, k - 1, f'color_{i}') for i in range(n)]\n",
    "\n",
    "        # Adjacency constraints\n",
    "        for (u, v) in edges:\n",
    "            model.Add(color_vars[u] != color_vars[v])\n",
    "\n",
    "        # Solve\n",
    "        solver = cp_model.CpSolver()\n",
    "        status = solver.Solve(model)\n",
    "        if status == cp_model.FEASIBLE or status == cp_model.OPTIMAL:\n",
    "            return [solver.Value(color_vars[i]) for i in range(n)]\n",
    "        else:\n",
    "            return None\n",
    "\n",
    "    def shuffle_coloring(self):\n",
    "        \"\"\"Randomly permute color labels for zero-knowledge each round.\"\"\"\n",
    "        self._generate_new_label_permutation()\n",
    "\n",
    "    def commit_coloring(self):\n",
    "        \"\"\"\n",
    "        Produce a commitment (SHA-256 hash of random salt + color) for each node\n",
    "        under the current permuted labeling.\n",
    "        \"\"\"\n",
    "        n = self.graph_info[\"num_nodes\"]\n",
    "        self.commitments = []\n",
    "        self.salts = []\n",
    "\n",
    "        for node in range(n):\n",
    "            real_color = self.original_coloring[node]\n",
    "            perm_color = self.permuted_labels[real_color]\n",
    "            # Random salt\n",
    "            salt = random.getrandbits(128).to_bytes(16, 'big')\n",
    "            # Create hash input\n",
    "            hash_input = salt + perm_color.to_bytes(4, 'big')\n",
    "            commit_hash = hashlib.sha256(hash_input).hexdigest()\n",
    "\n",
    "            self.commitments.append(commit_hash)\n",
    "            self.salts.append(salt)\n",
    "\n",
    "        return self.commitments\n",
    "\n",
    "    def open_edge_colors(self, edge):\n",
    "        \"\"\"\n",
    "        Reveal (nodeIndex, permuted_color, salt) for both endpoints of the edge.\n",
    "        \"\"\"\n",
    "        (u, v) = edge\n",
    "        color_u = self._get_permuted_color(u)\n",
    "        color_v = self._get_permuted_color(v)\n",
    "        salt_u = self.salts[u]\n",
    "        salt_v = self.salts[v]\n",
    "        return (u, color_u, salt_u), (v, color_v, salt_v)\n",
    "\n",
    "    def _generate_new_label_permutation(self):\n",
    "        label_list = list(range(self.k))\n",
    "        random.shuffle(label_list)\n",
    "        self.permuted_labels = label_list\n",
    "\n",
    "    def _get_permuted_color(self, node):\n",
    "        real_c = self.original_coloring[node]\n",
    "        return self.permuted_labels[real_c]\n",
    "    \n",
    "    def visualize_coloring(self, use_permuted=False):\n",
    "        \"\"\"\n",
    "        Returns an ipycytoscape widget showing each node in its color.\n",
    "        \n",
    "        By default, it uses the *original* color assignment.\n",
    "        If 'use_permuted=True', it applies the currently stored 'permuted_labels'\n",
    "        to each node's original color (which might have been generated in a shuffle).\n",
    "        \n",
    "        Works around older ipycytoscape versions by assigning node colors \n",
    "        *after* loading the graph.\n",
    "        \"\"\"\n",
    "        import networkx as nx\n",
    "        import ipycytoscape\n",
    "        import colorsys\n",
    "\n",
    "        def generate_color_palette(k):\n",
    "            \"\"\"\n",
    "            Generates k distinct colors around the HSV color circle.\n",
    "            Returns a list of hex color strings, e.g. ['#cc33cc', '#33cccc', ...].\n",
    "            \"\"\"\n",
    "            palette = []\n",
    "            for i in range(k):\n",
    "                hue = i / max(k, 1)\n",
    "                saturation = 0.6\n",
    "                value = 0.9\n",
    "                r, g, b = colorsys.hsv_to_rgb(hue, saturation, value)\n",
    "                palette.append(f\"#{int(r*255):02x}{int(g*255):02x}{int(b*255):02x}\")\n",
    "            return palette\n",
    "\n",
    "        n = self.graph_info[\"num_nodes\"]\n",
    "        edges = self.graph_info[\"edges\"]\n",
    "\n",
    "        # Create a NetworkX graph\n",
    "        G = nx.Graph()\n",
    "        G.add_nodes_from(range(n))\n",
    "        G.add_edges_from(edges)\n",
    "\n",
    "        # Generate a distinct color palette for k colors\n",
    "        color_palette = generate_color_palette(self.k)\n",
    "\n",
    "        # Assign each node's color to a node attribute\n",
    "        for node in G.nodes:\n",
    "            original_color = self.original_coloring[node]\n",
    "            \n",
    "            if use_permuted:\n",
    "                # If we haven't shuffled or 'permuted_labels' doesn't exist, handle gracefully\n",
    "                if not hasattr(self, 'permuted_labels') or self.permuted_labels is None:\n",
    "                    raise ValueError(\"Cannot visualize permuted labels; 'permuted_labels' not set. Call shuffle_coloring() first.\")\n",
    "                permuted_label = self.permuted_labels[original_color]\n",
    "                assigned_color = color_palette[permuted_label]\n",
    "            else:\n",
    "                assigned_color = color_palette[original_color]\n",
    "            \n",
    "            G.nodes[node]['color'] = assigned_color\n",
    "\n",
    "        # Create the Cytoscape widget\n",
    "        cyto_widget = ipycytoscape.CytoscapeWidget()\n",
    "        cyto_widget.graph.add_graph_from_networkx(G)\n",
    "\n",
    "        # Manually copy each node's 'color' attribute from G into the ipycytoscape node data\n",
    "        for node in cyto_widget.graph.nodes:\n",
    "            node_id_str = node.data['id']       # e.g. \"0\"\n",
    "            node_id_int = int(node_id_str)      # your original node index is an integer\n",
    "            node.data['color'] = G.nodes[node_id_int]['color']\n",
    "\n",
    "        # Define a style to color each node background using 'data(color)'\n",
    "        style = [\n",
    "            {\n",
    "                'selector': 'node',\n",
    "                'style': {\n",
    "                    'content': 'data(id)',\n",
    "                    'background-color': 'data(color)',\n",
    "                    'color': '#fff',  # node label color\n",
    "                    'text-valign': 'center'\n",
    "                }\n",
    "            },\n",
    "            {\n",
    "                'selector': 'edge',\n",
    "                'style': {\n",
    "                    'line-color': '#999'\n",
    "                }\n",
    "            }\n",
    "        ]\n",
    "        cyto_widget.set_style(style)\n",
    "\n",
    "        return cyto_widget\n",
    "\n",
    "class GraphColorVerifier(BaseVerifier):\n",
    "    \"\"\"\n",
    "    - verify(...) remains a placeholder for a single-step check.\n",
    "    - We'll do multiple rounds: pick an edge, check commitments, etc.\n",
    "    \"\"\"\n",
    "\n",
    "    def __init__(self):\n",
    "        self.last_commitments = []  # store solver's commitments each round\n",
    "        self.graph_info = None\n",
    "\n",
    "    def verify(self, challenge, solution):\n",
    "        # Not used in partial ZKP approach. Always True as a placeholder.\n",
    "        return True\n",
    "\n",
    "    def pick_edge_for_check(self):\n",
    "        edges = self.graph_info[\"edges\"]\n",
    "        return random.choice(edges)\n",
    "\n",
    "    def store_commitments(self, commitments):\n",
    "        self.last_commitments = commitments\n",
    "\n",
    "    def verify_opened_edge(self, opened_u, opened_v):\n",
    "        \"\"\"\n",
    "        Check that:\n",
    "         1) The committed hash matches the revealed color+salt for each node.\n",
    "         2) The two revealed colors differ.\n",
    "        \"\"\"\n",
    "        node_u, color_u, salt_u = opened_u\n",
    "        node_v, color_v, salt_v = opened_v\n",
    "\n",
    "        commit_u = self._compute_hash(salt_u, color_u)\n",
    "        commit_v = self._compute_hash(salt_v, color_v)\n",
    "\n",
    "        # Check if re-hashed values match stored commitments\n",
    "        if commit_u != self.last_commitments[node_u]:\n",
    "            return False\n",
    "        if commit_v != self.last_commitments[node_v]:\n",
    "            return False\n",
    "\n",
    "        # The two colors must differ\n",
    "        return (color_u != color_v)\n",
    "\n",
    "    def _compute_hash(self, salt, color):\n",
    "        hash_input = salt + color.to_bytes(4, 'big')\n",
    "        return hashlib.sha256(hash_input).hexdigest()\n",
    "\n",
    "\n",
    "# 5. Multi-Round ZKP Demo with Commitments\n",
    "def zero_knowledge_proof_demo_with_commitments(challenger, solver, verifier, rounds=5):\n",
    "    \"\"\"\n",
    "    - solver commits to a shuffled coloring\n",
    "    - verifier picks an edge\n",
    "    - solver opens that edge\n",
    "    - verifier checks the commitment & difference\n",
    "    Repeated for 'rounds' times => high confidence in correctness.\n",
    "    \"\"\"\n",
    "    # Challenger gives the challenge\n",
    "    challenge_data = challenger.challenge()\n",
    "    verifier.graph_info = challenge_data\n",
    "    edges = challenge_data[\"edges\"]\n",
    "    E = len(edges)\n",
    "\n",
    "    print(f\"CHALLENGER: Graph has {challenge_data['num_nodes']} nodes, \"\n",
    "          f\"{E} edges, with k={challenge_data['num_colors']}.\")\n",
    "\n",
    "    # Solver solves with CP-SAT\n",
    "    solver.solve(challenge_data)\n",
    "    print(f\"SOLVER: Found a valid {solver.k}-coloring (kept secret).\")\n",
    "\n",
    "    success_count = 0\n",
    "    for i in range(rounds):\n",
    "        # 1) Shuffle & commit\n",
    "        solver.shuffle_coloring()\n",
    "        commitments = solver.commit_coloring()\n",
    "        verifier.store_commitments(commitments)\n",
    "\n",
    "        # 2) Verifier picks an edge\n",
    "        edge = verifier.pick_edge_for_check()\n",
    "\n",
    "        # 3) Solver opens that edge\n",
    "        opened_u, opened_v = solver.open_edge_colors(edge)\n",
    "\n",
    "        # 4) Verifier checks\n",
    "        if verifier.verify_opened_edge(opened_u, opened_v):\n",
    "            print(f\"[Round {i+1}] Edge={edge} => PASS\")\n",
    "            success_count += 1\n",
    "        else:\n",
    "            print(f\"[Round {i+1}] Edge={edge} => FAIL\")\n",
    "\n",
    "    # Probability analysis (if there's at least one bad edge in the coloring)\n",
    "    # the chance of never picking it in 'rounds' random checks is (1 - 1/E)^rounds\n",
    "    if success_count == rounds:\n",
    "        print(f\"\\nVERIFIER: All {rounds} checks passed. High confidence in solver's correctness.\")\n",
    "    else:\n",
    "        print(f\"\\nVERIFIER: {success_count}/{rounds} checks passed. Possibly solver is cheating or unlucky.\")"
   ]
  },
  {
   "cell_type": "markdown",
   "metadata": {},
   "source": [
    "## Code explained\n",
    "\n",
    "In our method above, the "
   ]
  },
  {
   "cell_type": "code",
   "execution_count": 153,
   "metadata": {},
   "outputs": [],
   "source": [
    "edges = [(0,1), (0,2), (1,3), (2,3), (3,4), (4,5), (3,5), (3,6), (4,6)]\n",
    "num_nodes = 7\n",
    "k = 3  # We want to see if there's a 3-coloring\n",
    "\n",
    "# Instantiate with graph\n",
    "challenger = GraphColorChallenger(edges, num_nodes, k)\n",
    "solver = GraphColorSolver()\n",
    "verifier = GraphColorVerifier()"
   ]
  },
  {
   "cell_type": "markdown",
   "metadata": {},
   "source": [
    "The challenger sets the challenge, given the graph above."
   ]
  },
  {
   "cell_type": "code",
   "execution_count": 144,
   "metadata": {},
   "outputs": [
    {
     "name": "stdout",
     "output_type": "stream",
     "text": [
      "{'num_nodes': 7, 'edges': [(0, 1), (0, 2), (1, 3), (2, 3), (3, 4), (4, 5), (3, 5), (3, 6), (4, 6)], 'num_colors': 3}\n"
     ]
    }
   ],
   "source": [
    "challenge_data = challenger.challenge()\n",
    "print(challenge_data)"
   ]
  },
  {
   "cell_type": "code",
   "execution_count": 145,
   "metadata": {},
   "outputs": [
    {
     "data": {
      "application/vnd.jupyter.widget-view+json": {
       "model_id": "b630835224d84fc5a543d93757ce9603",
       "version_major": 2,
       "version_minor": 0
      },
      "text/plain": [
       "CytoscapeWidget(cytoscape_layout={'name': 'cola'}, cytoscape_style=[{'selector': 'node', 'style': {'content': …"
      ]
     },
     "execution_count": 145,
     "metadata": {},
     "output_type": "execute_result"
    }
   ],
   "source": [
    "# Create a NetworkX graph\n",
    "G = nx.Graph()\n",
    "G.add_edges_from(edges)\n",
    "\n",
    "# Initialize the ipycytoscape widget\n",
    "cyto_widget = ipycytoscape.CytoscapeWidget()\n",
    "\n",
    "# Convert the NetworkX graph to ipycytoscape’s format\n",
    "cyto_widget.graph.add_graph_from_networkx(G)\n",
    "\n",
    "# Optionally tweak the style\n",
    "cyto_widget.set_style([\n",
    "    {\n",
    "        'selector': 'node',\n",
    "        'style': {\n",
    "            'content': 'data(id)',\n",
    "            'background-color': '#0074D9',\n",
    "            'color': '#fff',\n",
    "            'text-valign': 'center'\n",
    "        }\n",
    "    },\n",
    "    {\n",
    "        'selector': 'edge',\n",
    "        'style': {\n",
    "            'line-color': '#888'\n",
    "        }\n",
    "    }\n",
    "])\n",
    "\n",
    "# Now display it in the notebook\n",
    "cyto_widget"
   ]
  },
  {
   "cell_type": "markdown",
   "metadata": {},
   "source": [
    "The solver attempts to solve the problem, but does not reveal their solution to the teacher"
   ]
  },
  {
   "cell_type": "code",
   "execution_count": 146,
   "metadata": {},
   "outputs": [
    {
     "name": "stdout",
     "output_type": "stream",
     "text": [
      "[0, 1, 2]\n"
     ]
    },
    {
     "data": {
      "application/vnd.jupyter.widget-view+json": {
       "model_id": "0789db2a3a9d44b29c504b8887173254",
       "version_major": 2,
       "version_minor": 0
      },
      "text/plain": [
       "CytoscapeWidget(cytoscape_layout={'name': 'cola'}, cytoscape_style=[{'selector': 'node', 'style': {'content': …"
      ]
     },
     "execution_count": 146,
     "metadata": {},
     "output_type": "execute_result"
    }
   ],
   "source": [
    "solver.solve(challenge_data)\n",
    "print(solver.permuted_labels)\n",
    "solver.visualize_coloring(use_permuted=False)\n"
   ]
  },
  {
   "cell_type": "markdown",
   "metadata": {},
   "source": [
    "The solver then shuffles the colors, and commits this to the teacher."
   ]
  },
  {
   "cell_type": "code",
   "execution_count": 147,
   "metadata": {},
   "outputs": [
    {
     "name": "stdout",
     "output_type": "stream",
     "text": [
      "[1, 0, 0, 2, 1, 0, 0]\n"
     ]
    },
    {
     "data": {
      "application/vnd.jupyter.widget-view+json": {
       "model_id": "c6c82add41b247f2ae7ba1ef4f7409f9",
       "version_major": 2,
       "version_minor": 0
      },
      "text/plain": [
       "CytoscapeWidget(cytoscape_layout={'name': 'cola'}, cytoscape_style=[{'selector': 'node', 'style': {'content': …"
      ]
     },
     "execution_count": 147,
     "metadata": {},
     "output_type": "execute_result"
    }
   ],
   "source": [
    "solver.shuffle_coloring()\n",
    "solver.solve(challenge_data)\n",
    "print(solver.original_coloring)\n",
    "solver.visualize_coloring(use_permuted=True)"
   ]
  },
  {
   "cell_type": "markdown",
   "metadata": {},
   "source": [
    "The teacher doesn't see the solution (as visualised above), but instead sees the solver's commitment, which is a hash of the color with a random salt."
   ]
  },
  {
   "cell_type": "code",
   "execution_count": 156,
   "metadata": {},
   "outputs": [
    {
     "name": "stdout",
     "output_type": "stream",
     "text": [
      "['7a505ed47fce06ea93bbe0b49899ffacd1046b966a135edad0f7636ed57d2ccf', '0739b1ce36ef79bbd69799bb25d9abaebd8ac6bc95f55ef44ee7be495184e063', '4ff138238ae6a44fdcb0e16b5b30776c6a134c12bc6d745c77cafc73833a1c1f', '1e8f301d95afb0660986f77c1290c79eda3a469ea11c2ca9bdcfcd00e8b28ce8', '9f0dd333e6919662a73caaedf24c8e392f89e501d31c17a0f97710affc24b810', '90c8d0227b67d596d07daadb722cb83b4bb893befc284d5bfac05bf844a2ed81', 'c011149421fbcfc257eefe7b0a5aa1ae2019e16581b716b6d3cc2d06e2c935be']\n"
     ]
    }
   ],
   "source": [
    "commitments = solver.commit_coloring()\n",
    "verifier.store_commitments(commitments)\n",
    "verifier.graph_info = challenge_data\n",
    "\n",
    "print(commitments)\n"
   ]
  },
  {
   "cell_type": "code",
   "execution_count": 157,
   "metadata": {},
   "outputs": [
    {
     "name": "stdout",
     "output_type": "stream",
     "text": [
      "(0, 1)\n",
      "(0, 0, b'\\xd9\\xac\\xdc7d\\x00\\xb7\\x7f(g\\x92\\x04q\\xa7k\\xe9')\n",
      "(1, 2, b'EK,\\xa8\\xfd\\x0c\\xd9\\xf5\\xdf\\x1aM\\t\"\\xaf\\x8f\\x96')\n"
     ]
    }
   ],
   "source": [
    "edge_to_check = verifier.pick_edge_for_check()\n",
    "print(edge_to_check)\n",
    "opened_u, opened_v = solver.open_edge_colors(edge_to_check)\n",
    "\n",
    "print(opened_u)\n",
    "print(opened_v)\n"
   ]
  },
  {
   "cell_type": "code",
   "execution_count": 142,
   "metadata": {},
   "outputs": [
    {
     "name": "stdout",
     "output_type": "stream",
     "text": [
      "CHALLENGER: Graph has 7 nodes, 9 edges, with k=3.\n",
      "SOLVER: Found a valid 3-coloring (kept secret).\n",
      "[Round 1] Edge=(2, 3) => PASS\n",
      "[Round 2] Edge=(1, 3) => PASS\n",
      "[Round 3] Edge=(0, 1) => PASS\n",
      "[Round 4] Edge=(4, 5) => PASS\n",
      "[Round 5] Edge=(3, 5) => PASS\n",
      "[Round 6] Edge=(4, 5) => PASS\n",
      "[Round 7] Edge=(1, 3) => PASS\n",
      "[Round 8] Edge=(0, 1) => PASS\n",
      "[Round 9] Edge=(1, 3) => PASS\n",
      "[Round 10] Edge=(0, 1) => PASS\n",
      "[Round 11] Edge=(4, 5) => PASS\n",
      "[Round 12] Edge=(3, 5) => PASS\n",
      "[Round 13] Edge=(4, 6) => PASS\n",
      "[Round 14] Edge=(0, 2) => PASS\n",
      "[Round 15] Edge=(0, 2) => PASS\n",
      "[Round 16] Edge=(4, 5) => PASS\n",
      "[Round 17] Edge=(4, 6) => PASS\n",
      "[Round 18] Edge=(3, 4) => PASS\n",
      "[Round 19] Edge=(3, 5) => PASS\n",
      "[Round 20] Edge=(1, 3) => PASS\n",
      "[Round 21] Edge=(4, 5) => PASS\n",
      "[Round 22] Edge=(4, 5) => PASS\n",
      "[Round 23] Edge=(4, 6) => PASS\n",
      "[Round 24] Edge=(4, 6) => PASS\n",
      "[Round 25] Edge=(4, 5) => PASS\n",
      "[Round 26] Edge=(0, 1) => PASS\n",
      "[Round 27] Edge=(3, 5) => PASS\n",
      "[Round 28] Edge=(4, 5) => PASS\n",
      "[Round 29] Edge=(4, 5) => PASS\n",
      "[Round 30] Edge=(1, 3) => PASS\n",
      "[Round 31] Edge=(4, 5) => PASS\n",
      "[Round 32] Edge=(3, 5) => PASS\n",
      "[Round 33] Edge=(4, 5) => PASS\n",
      "[Round 34] Edge=(3, 6) => PASS\n",
      "[Round 35] Edge=(0, 1) => PASS\n",
      "[Round 36] Edge=(3, 4) => PASS\n",
      "[Round 37] Edge=(4, 6) => PASS\n",
      "[Round 38] Edge=(3, 6) => PASS\n",
      "[Round 39] Edge=(4, 5) => PASS\n",
      "[Round 40] Edge=(3, 5) => PASS\n",
      "[Round 41] Edge=(3, 4) => PASS\n",
      "[Round 42] Edge=(0, 2) => PASS\n",
      "[Round 43] Edge=(0, 1) => PASS\n",
      "[Round 44] Edge=(0, 1) => PASS\n",
      "[Round 45] Edge=(3, 4) => PASS\n",
      "[Round 46] Edge=(3, 4) => PASS\n",
      "[Round 47] Edge=(2, 3) => PASS\n",
      "[Round 48] Edge=(0, 2) => PASS\n",
      "[Round 49] Edge=(4, 5) => PASS\n",
      "[Round 50] Edge=(3, 4) => PASS\n",
      "\n",
      "VERIFIER: All 50 checks passed. High confidence in solver's correctness.\n"
     ]
    },
    {
     "data": {
      "application/vnd.jupyter.widget-view+json": {
       "model_id": "63f48c5403b94a1ea986b0761789721b",
       "version_major": 2,
       "version_minor": 0
      },
      "text/plain": [
       "CytoscapeWidget(cytoscape_layout={'name': 'cola'}, cytoscape_style=[{'selector': 'node', 'style': {'content': …"
      ]
     },
     "metadata": {},
     "output_type": "display_data"
    }
   ],
   "source": [
    "# Run multi-round ZKP with commitments & a probability-of-correctness result\n",
    "zero_knowledge_proof_demo_with_commitments(challenger, solver, verifier, rounds=50)\n",
    "\n",
    "widget = solver.visualize_coloring()\n",
    "display(widget)"
   ]
  },
  {
   "cell_type": "code",
   "execution_count": null,
   "metadata": {},
   "outputs": [],
   "source": []
  }
 ],
 "metadata": {
  "kernelspec": {
   "display_name": ".venv",
   "language": "python",
   "name": "python3"
  },
  "language_info": {
   "codemirror_mode": {
    "name": "ipython",
    "version": 3
   },
   "file_extension": ".py",
   "mimetype": "text/x-python",
   "name": "python",
   "nbconvert_exporter": "python",
   "pygments_lexer": "ipython3",
   "version": "3.13.2"
  }
 },
 "nbformat": 4,
 "nbformat_minor": 2
}
